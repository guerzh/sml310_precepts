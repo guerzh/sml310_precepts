{
  "nbformat": 4,
  "nbformat_minor": 0,
  "metadata": {
    "colab": {
      "name": "iris_soln.ipynb",
      "provenance": []
    },
    "kernelspec": {
      "name": "python3",
      "display_name": "Python 3"
    }
  },
  "cells": [
    {
      "cell_type": "code",
      "metadata": {
        "id": "iO4b9FfYmGLF",
        "colab_type": "code",
        "colab": {}
      },
      "source": [
        "import pandas as pd\n",
        "import numpy as np\n",
        "import torch\n",
        "from torch.autograd import Variable\n",
        "import matplotlib.pyplot as plt\n",
        "\n",
        "np.random.seed(0)\n",
        "\n",
        "dtype_float = torch.FloatTensor\n",
        "dtype_long = torch.LongTensor\n",
        "\n"
      ],
      "execution_count": 0,
      "outputs": []
    },
    {
      "cell_type": "markdown",
      "metadata": {
        "id": "wJz2JJnSmQku",
        "colab_type": "text"
      },
      "source": [
        "Read in the data:"
      ]
    },
    {
      "cell_type": "code",
      "metadata": {
        "id": "b8trh9qVmZuS",
        "colab_type": "code",
        "colab": {
          "base_uri": "https://localhost:8080/",
          "height": 419
        },
        "outputId": "47a8327d-4582-428e-8f44-5cf77d9941dc"
      },
      "source": [
        "dat = pd.read_csv(\"https://raw.githubusercontent.com/salesforce/TransmogrifAI/master/helloworld/src/main/resources/IrisDataset/bezdekIris.data\", header = None)\n",
        "dat\n"
      ],
      "execution_count": 2,
      "outputs": [
        {
          "output_type": "execute_result",
          "data": {
            "text/html": [
              "<div>\n",
              "<style scoped>\n",
              "    .dataframe tbody tr th:only-of-type {\n",
              "        vertical-align: middle;\n",
              "    }\n",
              "\n",
              "    .dataframe tbody tr th {\n",
              "        vertical-align: top;\n",
              "    }\n",
              "\n",
              "    .dataframe thead th {\n",
              "        text-align: right;\n",
              "    }\n",
              "</style>\n",
              "<table border=\"1\" class=\"dataframe\">\n",
              "  <thead>\n",
              "    <tr style=\"text-align: right;\">\n",
              "      <th></th>\n",
              "      <th>0</th>\n",
              "      <th>1</th>\n",
              "      <th>2</th>\n",
              "      <th>3</th>\n",
              "      <th>4</th>\n",
              "    </tr>\n",
              "  </thead>\n",
              "  <tbody>\n",
              "    <tr>\n",
              "      <th>0</th>\n",
              "      <td>5.1</td>\n",
              "      <td>3.5</td>\n",
              "      <td>1.4</td>\n",
              "      <td>0.2</td>\n",
              "      <td>Iris-setosa</td>\n",
              "    </tr>\n",
              "    <tr>\n",
              "      <th>1</th>\n",
              "      <td>4.9</td>\n",
              "      <td>3.0</td>\n",
              "      <td>1.4</td>\n",
              "      <td>0.2</td>\n",
              "      <td>Iris-setosa</td>\n",
              "    </tr>\n",
              "    <tr>\n",
              "      <th>2</th>\n",
              "      <td>4.7</td>\n",
              "      <td>3.2</td>\n",
              "      <td>1.3</td>\n",
              "      <td>0.2</td>\n",
              "      <td>Iris-setosa</td>\n",
              "    </tr>\n",
              "    <tr>\n",
              "      <th>3</th>\n",
              "      <td>4.6</td>\n",
              "      <td>3.1</td>\n",
              "      <td>1.5</td>\n",
              "      <td>0.2</td>\n",
              "      <td>Iris-setosa</td>\n",
              "    </tr>\n",
              "    <tr>\n",
              "      <th>4</th>\n",
              "      <td>5.0</td>\n",
              "      <td>3.6</td>\n",
              "      <td>1.4</td>\n",
              "      <td>0.2</td>\n",
              "      <td>Iris-setosa</td>\n",
              "    </tr>\n",
              "    <tr>\n",
              "      <th>...</th>\n",
              "      <td>...</td>\n",
              "      <td>...</td>\n",
              "      <td>...</td>\n",
              "      <td>...</td>\n",
              "      <td>...</td>\n",
              "    </tr>\n",
              "    <tr>\n",
              "      <th>145</th>\n",
              "      <td>6.7</td>\n",
              "      <td>3.0</td>\n",
              "      <td>5.2</td>\n",
              "      <td>2.3</td>\n",
              "      <td>Iris-virginica</td>\n",
              "    </tr>\n",
              "    <tr>\n",
              "      <th>146</th>\n",
              "      <td>6.3</td>\n",
              "      <td>2.5</td>\n",
              "      <td>5.0</td>\n",
              "      <td>1.9</td>\n",
              "      <td>Iris-virginica</td>\n",
              "    </tr>\n",
              "    <tr>\n",
              "      <th>147</th>\n",
              "      <td>6.5</td>\n",
              "      <td>3.0</td>\n",
              "      <td>5.2</td>\n",
              "      <td>2.0</td>\n",
              "      <td>Iris-virginica</td>\n",
              "    </tr>\n",
              "    <tr>\n",
              "      <th>148</th>\n",
              "      <td>6.2</td>\n",
              "      <td>3.4</td>\n",
              "      <td>5.4</td>\n",
              "      <td>2.3</td>\n",
              "      <td>Iris-virginica</td>\n",
              "    </tr>\n",
              "    <tr>\n",
              "      <th>149</th>\n",
              "      <td>5.9</td>\n",
              "      <td>3.0</td>\n",
              "      <td>5.1</td>\n",
              "      <td>1.8</td>\n",
              "      <td>Iris-virginica</td>\n",
              "    </tr>\n",
              "  </tbody>\n",
              "</table>\n",
              "<p>150 rows × 5 columns</p>\n",
              "</div>"
            ],
            "text/plain": [
              "       0    1    2    3               4\n",
              "0    5.1  3.5  1.4  0.2     Iris-setosa\n",
              "1    4.9  3.0  1.4  0.2     Iris-setosa\n",
              "2    4.7  3.2  1.3  0.2     Iris-setosa\n",
              "3    4.6  3.1  1.5  0.2     Iris-setosa\n",
              "4    5.0  3.6  1.4  0.2     Iris-setosa\n",
              "..   ...  ...  ...  ...             ...\n",
              "145  6.7  3.0  5.2  2.3  Iris-virginica\n",
              "146  6.3  2.5  5.0  1.9  Iris-virginica\n",
              "147  6.5  3.0  5.2  2.0  Iris-virginica\n",
              "148  6.2  3.4  5.4  2.3  Iris-virginica\n",
              "149  5.9  3.0  5.1  1.8  Iris-virginica\n",
              "\n",
              "[150 rows x 5 columns]"
            ]
          },
          "metadata": {
            "tags": []
          },
          "execution_count": 2
        }
      ]
    },
    {
      "cell_type": "markdown",
      "metadata": {
        "id": "1EbC5nfNmQ-L",
        "colab_type": "text"
      },
      "source": [
        "Compute the train/test/validation split, and transform the y's into integers."
      ]
    },
    {
      "cell_type": "code",
      "metadata": {
        "id": "VkkMK2FumkJP",
        "colab_type": "code",
        "colab": {}
      },
      "source": [
        "from sklearn.preprocessing import LabelEncoder\n",
        "\n",
        "\n",
        "\n",
        "all_x = dat.loc[:, 0:3].to_numpy()\n",
        "all_y_raw = dat.loc[:, 4].to_numpy()\n",
        "\n",
        "\n",
        "\n",
        "le = LabelEncoder()\n",
        "le.fit(all_y_raw)\n",
        "all_y = le.transform(all_y_raw)\n",
        "\n",
        "idx = np.random.permutation(range(all_x.shape[0]))\n",
        "train_idx = idx[:60]\n",
        "test_idx = idx[60:100]\n",
        "valid_idx = idx[100:]\n",
        "\n",
        "train_x = all_x[train_idx]\n",
        "train_y = all_y[train_idx]\n",
        "\n",
        "test_x = all_x[test_idx]\n",
        "test_y = all_y[test_idx]\n",
        "\n",
        "valid_x = all_x[valid_idx]\n",
        "valid_y = all_y[valid_idx]"
      ],
      "execution_count": 0,
      "outputs": []
    },
    {
      "cell_type": "markdown",
      "metadata": {
        "id": "9khuadJJmnwT",
        "colab_type": "text"
      },
      "source": [
        "Read the train/validation/test sets into torch variables"
      ]
    },
    {
      "cell_type": "code",
      "metadata": {
        "id": "x-jZBXMSm0J8",
        "colab_type": "code",
        "colab": {}
      },
      "source": [
        "x = Variable(torch.from_numpy(train_x), requires_grad=False).type(dtype_float)\n",
        "y_classes = Variable(torch.from_numpy(train_y), requires_grad=False).type(dtype_long)\n",
        "\n",
        "x_valid = Variable(torch.from_numpy(valid_x), requires_grad=False).type(dtype_float)\n",
        "y_validclasses = Variable(torch.from_numpy(valid_y), requires_grad=False).type(dtype_long)\n",
        "\n",
        "\n",
        "x_test = Variable(torch.from_numpy(test_x), requires_grad=False).type(dtype_float)\n",
        "y_testclasses = Variable(torch.from_numpy(test_y), requires_grad=False).type(dtype_long)"
      ],
      "execution_count": 0,
      "outputs": []
    },
    {
      "cell_type": "markdown",
      "metadata": {
        "id": "jaceH5__m_43",
        "colab_type": "text"
      },
      "source": [
        "Define a network that corrsponds to multinomial logistic regression:"
      ]
    },
    {
      "cell_type": "code",
      "metadata": {
        "id": "spNCkHDgnIw5",
        "colab_type": "code",
        "colab": {}
      },
      "source": [
        "dim_x = 4 # number of features: in this case 4 attributes\n",
        "dim_out = 3 # number of classes we're predicting. We have 3 types of flowers\n",
        "\n",
        "model_logreg = torch.nn.Sequential(\n",
        "                torch.nn.Linear(dim_x, dim_out)\n",
        ")"
      ],
      "execution_count": 0,
      "outputs": []
    },
    {
      "cell_type": "markdown",
      "metadata": {
        "id": "FUTSXcZ5nwnl",
        "colab_type": "text"
      },
      "source": [
        "Train the logistic regression:"
      ]
    },
    {
      "cell_type": "code",
      "metadata": {
        "id": "veEp0-b0n1fF",
        "colab_type": "code",
        "colab": {
          "base_uri": "https://localhost:8080/",
          "height": 295
        },
        "outputId": "5f30f7a3-8e3d-48bf-a763-9412459b2f69"
      },
      "source": [
        "loss_train = [] # loss for the training set\n",
        "loss_valid = [] # loss for the validation set\n",
        "\n",
        "learning_rate = 1e-3\n",
        "N = 10000 # number of gradient descent iterations\n",
        "loss_fn = torch.nn.CrossEntropyLoss()\n",
        "optimizer = torch.optim.Adam(model_logreg.parameters(), lr=learning_rate)\n",
        "\n",
        "for t in range(N):\n",
        "    y_pred = model_logreg(x)\n",
        "    loss = loss_fn(y_pred, y_classes)\n",
        "    loss_train.append(loss.data.numpy().reshape((1,))[0]/len(y_classes))\n",
        "\n",
        "    y_validpred = model_logreg(x_valid)\n",
        "    loss_v = loss_fn(y_validpred, y_validclasses)\n",
        "    loss_valid.append(loss_v.data.numpy().reshape((1,))[0]/len(y_validclasses))\n",
        "\n",
        "    model_logreg.zero_grad()  # Zero out the previous gradient computation\n",
        "    loss.backward()    # Compute the gradient\n",
        "    optimizer.step()   # Use the gradient information to\n",
        "                       # make a step\n",
        "\n",
        "\n",
        "# Problem 3: Plotting learning curve\n",
        "\n",
        "plt.plot(range(N), loss_valid, color='b', label='validation')\n",
        "plt.plot(range(N), loss_train, color='r', label='training')\n",
        "plt.legend(loc='upper left')\n",
        "plt.title(\"Learning curve for training and validation sets\")\n",
        "plt.xlabel(\"Number of iterations (N)\")\n",
        "plt.ylabel(\"Cross entropy loss\")\n",
        "plt.show()"
      ],
      "execution_count": 6,
      "outputs": [
        {
          "output_type": "display_data",
          "data": {
            "image/png": "[encoded data removed]",
            "text/plain": [
              "<Figure size 432x288 with 1 Axes>"
            ]
          },
          "metadata": {
            "tags": []
          }
        }
      ]
    },
    {
      "cell_type": "markdown",
      "metadata": {
        "id": "sXdLtnT8oUyc",
        "colab_type": "text"
      },
      "source": [
        "There are several things to note here:\n",
        "\n",
        "1. When computing the cost to display, we divided the cost for the entire training/validation set by the number of training cases. That makes the training and validation costs displayed commesurate (since the training set is of size 60 and the validation set is of size 50, we'd expect the training cost to be larger just because it's the sum of the costs for all the datapoints).\n",
        "\n",
        "2. It's quite difficult to make out any difference between the training and the validation sets here. If we re-run the same code (but starting from the weights obtained at iteration 10000, since we won't redefine `model_logreg`, we'll see some difference (even though it is tiny)"
      ]
    },
    {
      "cell_type": "code",
      "metadata": {
        "id": "RaOmXxi6p2KV",
        "colab_type": "code",
        "colab": {
          "base_uri": "https://localhost:8080/",
          "height": 295
        },
        "outputId": "135919ef-79f0-445c-f2e7-eeee1428f11e"
      },
      "source": [
        "loss_train = [] # loss for the training set\n",
        "loss_valid = [] # loss for the validation set\n",
        "\n",
        "learning_rate = 1e-3\n",
        "N = 10000 # number of gradient descent iterations\n",
        "loss_fn = torch.nn.CrossEntropyLoss()\n",
        "optimizer = torch.optim.Adam(model_logreg.parameters(), lr=learning_rate)\n",
        "\n",
        "for t in range(N):\n",
        "    y_pred = model_logreg(x)\n",
        "    loss = loss_fn(y_pred, y_classes)\n",
        "    loss_train.append(loss.data.numpy().reshape((1,))[0]/len(y_classes))\n",
        "\n",
        "    y_validpred = model_logreg(x_valid)\n",
        "    loss_v = loss_fn(y_validpred, y_validclasses)\n",
        "    loss_valid.append(loss_v.data.numpy().reshape((1,))[0]/len(y_validclasses))\n",
        "\n",
        "    model_logreg.zero_grad()  # Zero out the previous gradient computation\n",
        "    loss.backward()    # Compute the gradient\n",
        "    optimizer.step()   # Use the gradient information to\n",
        "                       # make a step\n",
        "\n",
        "\n",
        "# Problem 3: Plotting learning curve\n",
        "\n",
        "plt.plot(range(N, 2*N), loss_valid, color='b', label='validation')\n",
        "plt.plot(range(N, 2*N), loss_train, color='r', label='training')\n",
        "plt.legend(loc='upper left')\n",
        "plt.title(\"Learning curve for training and validation sets\")\n",
        "plt.xlabel(\"Number of iterations (N)\")\n",
        "plt.ylabel(\"Cross entropy loss\")\n",
        "plt.show()"
      ],
      "execution_count": 7,
      "outputs": [
        {
          "output_type": "display_data",
          "data": {
            "image/png": "[encoded data removed]",
            "text/plain": [
              "<Figure size 432x288 with 1 Axes>"
            ]
          },
          "metadata": {
            "tags": []
          }
        }
      ]
    },
    {
      "cell_type": "code",
      "metadata": {
        "id": "40FyK0jpsoCM",
        "colab_type": "code",
        "colab": {
          "base_uri": "https://localhost:8080/",
          "height": 34
        },
        "outputId": "d8b9b78a-8928-4911-c8a4-07cb03b7a358"
      },
      "source": [
        "loss_train[-1]"
      ],
      "execution_count": 8,
      "outputs": [
        {
          "output_type": "execute_result",
          "data": {
            "text/plain": [
              "0.0010166171938180923"
            ]
          },
          "metadata": {
            "tags": []
          },
          "execution_count": 8
        }
      ]
    },
    {
      "cell_type": "markdown",
      "metadata": {
        "id": "h3ZR7ymsqfsu",
        "colab_type": "text"
      },
      "source": [
        "Let's now define a one-hidden layer neural network with 3 hidden units:"
      ]
    },
    {
      "cell_type": "code",
      "metadata": {
        "id": "98rBWn49quFk",
        "colab_type": "code",
        "colab": {}
      },
      "source": [
        "dim_x = 4 # number of features: in this case 4 attributes\n",
        "dim_h = 3 # number of hidden units\n",
        "dim_out = 3 # number of classes we're predicting. We have 3 types of flowers\n",
        "\n",
        "model_ann = torch.nn.Sequential(\n",
        "    torch.nn.Linear(dim_x, dim_h),\n",
        "    torch.nn.ReLU(),\n",
        "    torch.nn.Linear(dim_h, dim_out),\n",
        ")\n",
        "\n",
        "loss_fn = torch.nn.CrossEntropyLoss()\n",
        "\n",
        "loss_train = [] # loss for the training set\n",
        "loss_valid = [] # loss for the validation set\n",
        "\n",
        "learning_rate = 1e-3\n",
        "N = 10000 # number of gradient descent iterations\n",
        "\n",
        "optimizer = torch.optim.Adam(model_ann.parameters(), lr=learning_rate)\n",
        "\n",
        "for t in range(N):\n",
        "    y_pred = model_ann(x)\n",
        "    loss = loss_fn(y_pred, y_classes)\n",
        "    loss_train.append(loss.data.numpy().reshape((1,))[0]/len(y_classes))\n",
        "\n",
        "    y_validpred = model_ann(x_valid)\n",
        "    loss_v = loss_fn(y_validpred, y_validclasses)\n",
        "    loss_valid.append(loss_v.data.numpy().reshape((1,))[0]/len(y_validclasses))\n",
        "\n",
        "    model_ann.zero_grad()  # Zero out the previous gradient computation\n",
        "    loss.backward()    # Compute the gradient\n",
        "    optimizer.step()   # Use the gradient information to\n",
        "                       # make a step"
      ],
      "execution_count": 0,
      "outputs": []
    },
    {
      "cell_type": "markdown",
      "metadata": {
        "id": "EAFIZQv2q4E3",
        "colab_type": "text"
      },
      "source": [
        "Let's now plot the learning curves for the ANN:"
      ]
    },
    {
      "cell_type": "code",
      "metadata": {
        "id": "uGfLR1CGrWCz",
        "colab_type": "code",
        "colab": {
          "base_uri": "https://localhost:8080/",
          "height": 295
        },
        "outputId": "467ce070-3597-4315-8f37-d7dd77f5e25a"
      },
      "source": [
        "plt.plot(range(N), loss_valid, color='b', label='validation')\n",
        "plt.plot(range(N), loss_train, color='r', label='training')\n",
        "plt.legend(loc='upper left')\n",
        "plt.title(\"Learning curve for training and validation sets\")\n",
        "plt.xlabel(\"Number of iterations (N)\")\n",
        "plt.ylabel(\"Cross entropy loss\")\n",
        "plt.show()"
      ],
      "execution_count": 10,
      "outputs": [
        {
          "output_type": "display_data",
          "data": {
            "image/png": "[encoded data removed]",
            "text/plain": [
              "<Figure size 432x288 with 1 Axes>"
            ]
          },
          "metadata": {
            "tags": []
          }
        }
      ]
    },
    {
      "cell_type": "markdown",
      "metadata": {
        "id": "eZCCK4Z2rXUo",
        "colab_type": "text"
      },
      "source": [
        "Because the neural network is more flexible, we expect to see smaller costs for the training set. Let's display the next 10,000 iterations as before:"
      ]
    },
    {
      "cell_type": "code",
      "metadata": {
        "id": "QXhUuFLRsNS8",
        "colab_type": "code",
        "colab": {
          "base_uri": "https://localhost:8080/",
          "height": 295
        },
        "outputId": "f6ec4258-942f-45f8-9bdc-b1ab2868c821"
      },
      "source": [
        "loss_train = [] # loss for the training set\n",
        "loss_valid = [] # loss for the validation set\n",
        "\n",
        "learning_rate = 1e-3\n",
        "N = 10000 # number of gradient descent iterations\n",
        "loss_fn = torch.nn.CrossEntropyLoss()\n",
        "optimizer = torch.optim.Adam(model_logreg.parameters(), lr=learning_rate)\n",
        "\n",
        "for t in range(N):\n",
        "    y_pred = model_logreg(x)\n",
        "    loss = loss_fn(y_pred, y_classes)\n",
        "    loss_train.append(loss.data.numpy().reshape((1,))[0]/len(y_classes))\n",
        "\n",
        "    y_validpred = model_logreg(x_valid)\n",
        "    loss_v = loss_fn(y_validpred, y_validclasses)\n",
        "    loss_valid.append(loss_v.data.numpy().reshape((1,))[0]/len(y_validclasses))\n",
        "\n",
        "    model_logreg.zero_grad()  # Zero out the previous gradient computation\n",
        "    loss.backward()    # Compute the gradient\n",
        "    optimizer.step()   # Use the gradient information to\n",
        "                       # make a step\n",
        "\n",
        "\n",
        "# Problem 3: Plotting learning curve\n",
        "\n",
        "plt.plot(range(N, 2*N), loss_valid, color='b', label='validation')\n",
        "plt.plot(range(N, 2*N), loss_train, color='r', label='training')\n",
        "plt.legend(loc='upper left')\n",
        "plt.title(\"Learning curve for training and validation sets\")\n",
        "plt.xlabel(\"Number of iterations (N)\")\n",
        "plt.ylabel(\"Cross entropy loss\")\n",
        "plt.show()"
      ],
      "execution_count": 11,
      "outputs": [
        {
          "output_type": "display_data",
          "data": {
            "image/png": "[encoded data removed]",
            "text/plain": [
              "<Figure size 432x288 with 1 Axes>"
            ]
          },
          "metadata": {
            "tags": []
          }
        }
      ]
    },
    {
      "cell_type": "markdown",
      "metadata": {
        "id": "MQOezn71sNub",
        "colab_type": "text"
      },
      "source": [
        ""
      ]
    },
    {
      "cell_type": "code",
      "metadata": {
        "id": "5ugnqBizsfnq",
        "colab_type": "code",
        "colab": {
          "base_uri": "https://localhost:8080/",
          "height": 34
        },
        "outputId": "6434440f-2a6b-4bab-d1b8-322931919ed4"
      },
      "source": [
        "loss_train[-1]"
      ],
      "execution_count": 12,
      "outputs": [
        {
          "output_type": "execute_result",
          "data": {
            "text/plain": [
              "0.0010073543215791383"
            ]
          },
          "metadata": {
            "tags": []
          },
          "execution_count": 12
        }
      ]
    },
    {
      "cell_type": "markdown",
      "metadata": {
        "id": "Pl9ZgLO4sipB",
        "colab_type": "text"
      },
      "source": [
        "The loss is a tiny bit smaller per training example. The validation cost is also similar."
      ]
    },
    {
      "cell_type": "code",
      "metadata": {
        "id": "a-MHeTChtX5o",
        "colab_type": "code",
        "colab": {
          "base_uri": "https://localhost:8080/",
          "height": 170
        },
        "outputId": "fd4d840d-a2b7-47f5-dc49-566a1919b57f"
      },
      "source": [
        "dim_x = 4 # number of features: in this case 4 attributes\n",
        "dim_h = 3 # number of hidden units\n",
        "dim_out = 3 # number of classes we're predicting. We have 3 types of flowers\n",
        "\n",
        "\n",
        "model = torch.nn.Sequential(\n",
        "    torch.nn.Linear(dim_x, dim_h),\n",
        "    torch.nn.ReLU(),\n",
        "    torch.nn.Linear(dim_h, dim_out),\n",
        ")\n",
        "\n",
        "\n",
        "# Problem 4: get the performance on the testing set\n",
        "# idea is to train network with different dim_h and pick the one with the highest valudation set accuracy as your model of choice\n",
        "y_trainpred = model(x).data.numpy()\n",
        "y_validpred = model(x_valid).data.numpy()\n",
        "y_testpred = model(x_test).data.numpy()\n",
        "print('accuracy on training set: ', np.mean(np.argmax(y_trainpred, 1) == train_y))\n",
        "print('accuracy on validation set: ', np.mean(np.argmax(y_validpred, 1) == valid_y))\n",
        "print('accuracy on testing set: ', np.mean(np.argmax(y_testpred, 1) == test_y))\n",
        "\n",
        "\n",
        "# Problem 5: regularization\n",
        "# Idea is to just rerun the gradient descent, but add the penalty term to loss function\n",
        "lam=0.01\n",
        "learning_rate = 1e-3\n",
        "N = 10000 # number of gradient descent iterations\n",
        "\n",
        "optimizer = torch.optim.Adam(model.parameters(), lr=learning_rate)\n",
        "\n",
        "for t in range(N):\n",
        "    y_pred = model(x)\n",
        "    loss = loss_fn(y_pred, y_classes) + lam * ( torch.pow(torch.pow(torch.norm(model[0].weight), 2) + torch.pow(torch.norm(model[2].weight), 2), 0.5))\n",
        "    loss_train.append(loss.data.numpy().reshape((1,))[0])\n",
        "\n",
        "    y_validpred = model(x_valid)\n",
        "    loss_v = loss_fn(y_validpred, y_validclasses)\n",
        "    loss_valid.append(loss_v.data.numpy().reshape((1,))[0])\n",
        "\n",
        "    model.zero_grad()  # Zero out the previous gradient computation\n",
        "    loss.backward()    # Compute the gradient\n",
        "    optimizer.step()   # Use the gradient information to\n",
        "                       # make a step\n",
        "\n",
        "y_trainpred = model(x).data.numpy()\n",
        "y_validpred = model(x_valid).data.numpy()\n",
        "y_testpred = model(x_test).data.numpy()\n",
        "print('accuracy on training set: ', np.mean(np.argmax(y_trainpred, 1) == train_y))\n",
        "print('accuracy on validation set: ', np.mean(np.argmax(y_validpred, 1) == valid_y))\n",
        "print('accuracy on testing set: ', np.mean(np.argmax(y_testpred, 1) == test_y))\n",
        "\n",
        "\n",
        "# Problem 6: predicting probabilities for a new instance\n",
        "#SepalLength = 5.8\n",
        "#SepalWidth = 5.8\n",
        "#PetalLength = 5.8\n",
        "#PetalWidth = 5.8\n",
        "\n",
        "x_new = np.array([5.8,5.8,5.8,5.8])\n",
        "x_newtorch = Variable(torch.from_numpy(x_new), requires_grad=False).type(dtype_float)\n",
        "\n",
        "predictedy = model(x_newtorch).data.numpy() # these are the raw output values for each of the 3 classes\n",
        "\n",
        "# Apply softmax to obtain class probabilities: exp(o_i) / (sum_i  exp(o_i) )\n",
        "#Setosa, Versicolor, and Viriginica correspond to 0, 1, and 2 respectively\n",
        "probs = np.exp(predictedy) / np.sum(np.exp(predictedy))\n",
        "print('predicted class label: ', np.argmax(probs))\n",
        "\n",
        "\n",
        "#Problem 7: with three hidden units, take the first hidden unit, and display the weights that connect the inputs to it.\n",
        "\n",
        "# weights from input to hidden layer:\n",
        "model[0].weight # row i of the 2d array represents weights to the i_th hidden unit\n",
        "weights_u1 = model[0].weight[0,:]\n",
        "print(weights_u1)"
      ],
      "execution_count": 13,
      "outputs": [
        {
          "output_type": "stream",
          "text": [
            "accuracy on training set:  0.26666666666666666\n",
            "accuracy on validation set:  0.38\n",
            "accuracy on testing set:  0.375\n",
            "accuracy on training set:  0.9833333333333333\n",
            "accuracy on validation set:  0.94\n",
            "accuracy on testing set:  0.975\n",
            "predicted class label:  2\n",
            "tensor([-6.0148e-41,  1.8359e-40, -1.5789e-40,  1.2537e-40],\n",
            "       grad_fn=<SliceBackward>)\n"
          ],
          "name": "stdout"
        }
      ]
    }
  ]
}